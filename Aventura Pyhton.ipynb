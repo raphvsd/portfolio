{
 "cells": [
  {
   "cell_type": "code",
   "execution_count": 1,
   "id": "78bf7710",
   "metadata": {},
   "outputs": [],
   "source": [
    "class Mundo:\n",
    "    '''\n",
    "    Define a classe mundo, com seus atributos geográficos, geológicos e meteorológicos.\n",
    "    '''\n",
    "    \n",
    "    def __init__(self):\n",
    "\n",
    "        self.grid = {} # dicionário que contém as coordenadas e elementos\n",
    "        # coordenadas feitas como um \"campo finito de números\"\n",
    "        # no módulo 2 ainda não conhecia bibliotecas de matemática\n",
    "        self.temp = 25.5 # temperarura média (ainda não utilizada)\n",
    "        self.dia = 24 # duração do dia em horas, ainda não utilizado"
   ]
  },
  {
   "cell_type": "code",
   "execution_count": 2,
   "id": "7bda96cb",
   "metadata": {},
   "outputs": [],
   "source": [
    "mundo = Mundo()"
   ]
  },
  {
   "cell_type": "code",
   "execution_count": 3,
   "id": "89385b74",
   "metadata": {},
   "outputs": [
    {
     "data": {
      "text/plain": [
       "{}"
      ]
     },
     "execution_count": 3,
     "metadata": {},
     "output_type": "execute_result"
    }
   ],
   "source": [
    "mundo.grid"
   ]
  },
  {
   "cell_type": "code",
   "execution_count": 4,
   "id": "67407441",
   "metadata": {},
   "outputs": [],
   "source": [
    "class Site:\n",
    "    '''\n",
    "    Define uma classe de aglomeração humana, vilas, vilrejos, cidades, metrópoles, capitais...\n",
    "    '''\n",
    "    \n",
    "    def __init__(self, nome, posicao_xy, populacao: int, tipo: str, perigosa: bool, produtividade: int,\n",
    "                 aborizada: bool, bem_cuidada: bool):\n",
    "        \n",
    "        self.name = nome\n",
    "        self.coord = posicao_xy # é inserida depois como uma chave no dict mundo.grid\n",
    "        self.pop = populacao\n",
    "        self.nype = tipo # vila, vilarejo, cidade, metrópole etc...\n",
    "        self.danger = perigosa\n",
    "        self.product = produtividade # se a cidade produz muito ou pouco, ou apenas consome recursos\n",
    "        self.wooded = aborizada\n",
    "        self.well_maint = bem_cuidada\n",
    "        \n",
    "        mundo.grid[posicao_xy] = [tipo,nome]\n",
    "    \n",
    "    def description(self): # chama a descrição da cidade e define um item dentro do grid para o\n",
    "        # jogador poder acessar ao chegar na cidade\n",
    "        \n",
    "        if self.pop > 10000:\n",
    "            adjetivo = 'muito'\n",
    "        else:\n",
    "            adjetivo = 'pouco'\n",
    "        \n",
    "        if self.danger:\n",
    "            afirmacao = 'ser'\n",
    "        else:\n",
    "            afirmacao = 'não ser'\n",
    "            \n",
    "        if self.wooded:\n",
    "            adjetivo_2 = 'bastante'\n",
    "        else:\n",
    "            adjetivo_2 = 'poucamente'\n",
    "            \n",
    "        if self.well_maint:\n",
    "            adjetivo_3 = 'bem'\n",
    "        else:\n",
    "            adjetivo_3 = 'mal'\n",
    "        \n",
    "        desc = f'Quando você entra, percebe um(a) {self.nype} {adjetivo} populosa.\\nParece {afirmacao} perigosa, {adjetivo_2} arborizada e {adjetivo_3} cuidada'\n",
    "        \n",
    "        mundo.grid[self.coord].append(desc)\n",
    "        \n",
    "        print(f'Quando você entra, percebe um(a) {self.nype} {adjetivo} populosa.\\nParece {afirmacao} perigosa, {adjetivo_2} arborizada e {adjetivo_3} cuidada')\n",
    "        \n",
    "    "
   ]
  },
  {
   "cell_type": "code",
   "execution_count": 5,
   "id": "935cbd26",
   "metadata": {},
   "outputs": [],
   "source": [
    "land = Site('Land',175,2545,'Vila',True,2,True,False)"
   ]
  },
  {
   "cell_type": "code",
   "execution_count": 6,
   "id": "8fcbc2c8",
   "metadata": {},
   "outputs": [
    {
     "name": "stdout",
     "output_type": "stream",
     "text": [
      "Quando você entra, percebe um(a) Vila pouco populosa.\n",
      "Parece ser perigosa, bastante arborizada e mal cuidada\n"
     ]
    }
   ],
   "source": [
    "land.description()"
   ]
  },
  {
   "cell_type": "code",
   "execution_count": 7,
   "id": "10de9636",
   "metadata": {},
   "outputs": [],
   "source": [
    "class NPC:\n",
    "    '''\n",
    "    Cria a classe de pessoas digitais do jogo.\n",
    "    '''\n",
    "    \n",
    "    def __init__(self, nome, item, defesa, ataque, posicao_xy: int):\n",
    "        \n",
    "        self.name = nome\n",
    "        self.coisas = item\n",
    "        self.defense = defesa\n",
    "        self.atack = ataque\n",
    "        self.coord = posicao_xy\n",
    "        \n",
    "        mundo.grid[posicao_xy] = nome # posiçao do NPC no mundo.grid\n",
    "    \n",
    "    def fala_npc(self,other):\n",
    "        \n",
    "        print(f'{self.name}: Olá tudo bem, {other.name}?')\n",
    "        \n",
    "    def entrega_item(self,other): # aqui o NPC, se tiver, entrega um item ao jogador\n",
    "        # então o item é removido do inventário do NPC e adicionado ao do jogador\n",
    "        \n",
    "        if self.coisas != None:\n",
    "            print(f'Você recebeu {self.coisas}!')\n",
    "            other.sack.append(self.coisas)\n",
    "            self.coisas = None\n",
    "        else:\n",
    "            print(f'{self.name}: Tenho nada não, {other.name}')"
   ]
  },
  {
   "cell_type": "code",
   "execution_count": 8,
   "id": "f6e28108",
   "metadata": {},
   "outputs": [],
   "source": [
    "joao = NPC('João','Comida',10,0,103)"
   ]
  },
  {
   "cell_type": "code",
   "execution_count": 9,
   "id": "ad03365f",
   "metadata": {},
   "outputs": [],
   "source": [
    "maria = NPC('Maria','Corda',2,1,147)"
   ]
  },
  {
   "cell_type": "code",
   "execution_count": 10,
   "id": "5242a079",
   "metadata": {},
   "outputs": [],
   "source": [
    "class Jogador:\n",
    "    '''\n",
    "    Cria a classe de jogador e seus atributos\n",
    "    '''\n",
    "    def __init__(self, nome, inventario, ataque, defesa, velocidade, posicao_xy: int):\n",
    "        \n",
    "        self.name = nome\n",
    "        self.sack = [inventario] # lista que contém todos os itens que ele recebeu\n",
    "        self.atack = ataque\n",
    "        self.defense = defesa\n",
    "        self.speed = velocidade\n",
    "        self.coord = posicao_xy\n",
    "        \n",
    "        mundo.grid[posicao_xy] = nome # define a posição inicial do jogador\n",
    "    \n",
    "    def move(self, sentido: str):\n",
    "        '''\n",
    "        Sentido podem ser N, S, E ou O.\n",
    "        '''\n",
    "        # nesse campo de números finito que eu fiz, para andar N-S, se soma ou subtrai 1\n",
    "        # para andar E-O, se soma ou subtrai 10. Isso traz um problema, pq o mundo fica\n",
    "        # circular, como um cilindro, tipo um pac-man cilíndrico XD\n",
    "        \n",
    "        coord = self.coord\n",
    "        mundo.grid[self.coord] = None\n",
    "        \n",
    "        if sentido == 'N':\n",
    "            direction = 1\n",
    "        elif sentido == 'S':\n",
    "            direction = -1\n",
    "        elif sentido == 'E':\n",
    "            direction = 10\n",
    "        else:\n",
    "            direction = -10\n",
    "            \n",
    "        coord = coord+direction\n",
    "        print(coord)\n",
    "        \n",
    "        # aqui ele verifica se voce chegou em uma cidade e descreve a cidade para você\n",
    "        \n",
    "        if coord in mundo.grid.keys():\n",
    "            print('1')\n",
    "            if type(mundo.grid[coord]) == list:\n",
    "                print(f'Você chegou em {mundo.grid[coord][1]}\\n',mundo.grid[coord][2])\n",
    "        \n",
    "        self.coord = coord\n",
    "        \n",
    "        mundo.grid[self.coord] = self.name\n",
    "        \n",
    "        # aqui ele define sua posição como a posição da cidade, porém, isso sobrescreve\n",
    "        # a cidade no grid pelo jogador. o mesmo acontece com os NPC's. ainda não resolvi isso.\n",
    "    \n",
    "    def fala(self, npc):\n",
    "        \n",
    "        # aqui defino se ele vai conversar ou pedir um item.\n",
    "        # para conversar você tem que estar ao lado do NPC.\n",
    "        # isso é determinado pela distância entre os número do campo finito.\n",
    "        # se for 10 ou 1, significa que está imediatamente ao lado.\n",
    "        \n",
    "        distancia = abs(npc.coord - self.coord)\n",
    "        \n",
    "        if distancia == 1 or distancia == 10:\n",
    "            line = input('O que deseja fazer? Conversar (c) ou pedir um item (i)?')\n",
    "            if line == 'c':\n",
    "                print('E aí, bicho?')\n",
    "                npc.fala_npc(self)\n",
    "            else:\n",
    "                print('Me dá um item aí')\n",
    "                npc.entrega_item(self)\n",
    "        else:\n",
    "            print('Não há ninguém ao seu lado!')"
   ]
  },
  {
   "cell_type": "code",
   "execution_count": 11,
   "id": "6231c930",
   "metadata": {},
   "outputs": [],
   "source": [
    "jose = Jogador('José',None,1,1,1,125)"
   ]
  },
  {
   "cell_type": "code",
   "execution_count": 12,
   "id": "0b00f390",
   "metadata": {},
   "outputs": [
    {
     "data": {
      "text/plain": [
       "{175: ['Vila',\n",
       "  'Land',\n",
       "  'Quando você entra, percebe um(a) Vila pouco populosa.\\nParece ser perigosa, bastante arborizada e mal cuidada'],\n",
       " 103: 'João',\n",
       " 147: 'Maria',\n",
       " 125: 'José'}"
      ]
     },
     "execution_count": 12,
     "metadata": {},
     "output_type": "execute_result"
    }
   ],
   "source": [
    "mundo.grid"
   ]
  },
  {
   "cell_type": "code",
   "execution_count": 13,
   "id": "c82220de",
   "metadata": {},
   "outputs": [
    {
     "name": "stdout",
     "output_type": "stream",
     "text": [
      "Não há ninguém ao seu lado!\n"
     ]
    }
   ],
   "source": [
    "jose.fala(maria)"
   ]
  },
  {
   "cell_type": "code",
   "execution_count": 14,
   "id": "45725b74",
   "metadata": {},
   "outputs": [
    {
     "name": "stdout",
     "output_type": "stream",
     "text": [
      "135\n",
      "145\n",
      "146\n"
     ]
    }
   ],
   "source": [
    "jose.move('E')\n",
    "jose.move('E')\n",
    "jose.move('N')"
   ]
  },
  {
   "cell_type": "code",
   "execution_count": 15,
   "id": "bdfcecfe",
   "metadata": {},
   "outputs": [
    {
     "name": "stdout",
     "output_type": "stream",
     "text": [
      "O que deseja fazer? Conversar (c) ou pedir um item (i)?c\n",
      "E aí, bicho?\n",
      "Maria: Olá tudo bem, José?\n"
     ]
    }
   ],
   "source": [
    "jose.fala(maria)"
   ]
  },
  {
   "cell_type": "code",
   "execution_count": 16,
   "id": "0f22e80f",
   "metadata": {},
   "outputs": [
    {
     "name": "stdout",
     "output_type": "stream",
     "text": [
      "O que deseja fazer? Conversar (c) ou pedir um item (i)?i\n",
      "Me dá um item aí\n",
      "Você recebeu Corda!\n"
     ]
    }
   ],
   "source": [
    "jose.fala(maria)"
   ]
  },
  {
   "cell_type": "code",
   "execution_count": 17,
   "id": "c4cc93cd",
   "metadata": {},
   "outputs": [
    {
     "name": "stdout",
     "output_type": "stream",
     "text": [
      "O que deseja fazer? Conversar (c) ou pedir um item (i)?i\n",
      "Me dá um item aí\n",
      "Maria: Tenho nada não, José\n"
     ]
    }
   ],
   "source": [
    "jose.fala(maria)"
   ]
  },
  {
   "cell_type": "code",
   "execution_count": 18,
   "id": "36778fa3",
   "metadata": {},
   "outputs": [
    {
     "data": {
      "text/plain": [
       "{'name': 'José',\n",
       " 'sack': [None, 'Corda'],\n",
       " 'atack': 1,\n",
       " 'defense': 1,\n",
       " 'speed': 1,\n",
       " 'coord': 146}"
      ]
     },
     "execution_count": 18,
     "metadata": {},
     "output_type": "execute_result"
    }
   ],
   "source": [
    "vars(jose)"
   ]
  },
  {
   "cell_type": "code",
   "execution_count": 19,
   "id": "074462fd",
   "metadata": {},
   "outputs": [
    {
     "data": {
      "text/plain": [
       "{'name': 'Maria', 'coisas': None, 'defense': 2, 'atack': 1, 'coord': 147}"
      ]
     },
     "execution_count": 19,
     "metadata": {},
     "output_type": "execute_result"
    }
   ],
   "source": [
    "vars(maria)"
   ]
  },
  {
   "cell_type": "code",
   "execution_count": 20,
   "id": "2d538f00",
   "metadata": {},
   "outputs": [
    {
     "name": "stdout",
     "output_type": "stream",
     "text": [
      "156\n",
      "166\n",
      "176\n",
      "175\n",
      "1\n",
      "Você chegou em Land\n",
      " Quando você entra, percebe um(a) Vila pouco populosa.\n",
      "Parece ser perigosa, bastante arborizada e mal cuidada\n"
     ]
    }
   ],
   "source": [
    "jose.move('E')\n",
    "jose.move('E')\n",
    "jose.move('E')\n",
    "jose.move('S')"
   ]
  }
 ],
 "metadata": {
  "kernelspec": {
   "display_name": "Python 3 (ipykernel)",
   "language": "python",
   "name": "python3"
  },
  "language_info": {
   "codemirror_mode": {
    "name": "ipython",
    "version": 3
   },
   "file_extension": ".py",
   "mimetype": "text/x-python",
   "name": "python",
   "nbconvert_exporter": "python",
   "pygments_lexer": "ipython3",
   "version": "3.9.7"
  }
 },
 "nbformat": 4,
 "nbformat_minor": 5
}
