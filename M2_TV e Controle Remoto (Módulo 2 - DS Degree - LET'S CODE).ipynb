{
 "cells": [
  {
   "cell_type": "markdown",
   "metadata": {},
   "source": [
    "Crie uma classe `Televisor`cujos atributos são: fabricante; modelo; canal atual; lista de canais; volume.\n",
    "\n",
    "Faça métodos aumentar/diminuir volume, trocar o canal e sintonizar um novo canal, que adiciona um novo canal à lista de canais (somente se esse canal não estiver nessa lista). No atributo lista de canais, devem estar armazenados todos os canais já sintonizados dessa TV. \n",
    "\n",
    "Obs.: o volume não pode ser menor que zero e maior que cem; só se pode trocar para um canal que já esteja na lista de canais."
   ]
  },
  {
   "cell_type": "code",
   "execution_count": 26,
   "metadata": {},
   "outputs": [],
   "source": [
    "class Televisor:\n",
    "    '''\n",
    "    Classe que define tipos e modelos de aparelhos de TV\n",
    "    '''\n",
    "    \n",
    "    def __init__(self, fabricante: str, modelo: str, volume = 0, canal = None, turned_on = False):\n",
    "        \n",
    "        self.manufact = fabricante\n",
    "        self.model = modelo\n",
    "        self.channel = canal\n",
    "        self.channel_list = {}\n",
    "        self.volume = volume\n",
    "        self.ligada = turned_on\n",
    "        \n",
    "    def __repr__(self):\n",
    "        \n",
    "        if self.ligada:\n",
    "            on_off = 'Ligada'\n",
    "            return f\"A TV {self.model} da {self.manufact} está {on_off}, no canal {self.channel} e no volume {self.volume}.\"\n",
    "        else:\n",
    "            on_off = 'Desligada'\n",
    "            return f\"A TV {self.model} da {self.manufact} está {on_off}.\"\n",
    "    \n",
    "    def on_off(self):\n",
    "        \n",
    "        if self.ligada:\n",
    "            self.ligada = False\n",
    "            print('TUF! A TV está desligada')\n",
    "        else:\n",
    "            self.ligada = True\n",
    "            print('PLIM! A TV está ligada')\n",
    "    \n",
    "    def change_volume(self):\n",
    "        \n",
    "        if self.ligada:\n",
    "        \n",
    "            print(self.volume)\n",
    "        \n",
    "            if self.volume == 0:\n",
    "                change_plus_less = '+'\n",
    "                change_ammount = int(input(\"Quantas vezes você vai apertar para aumentar o volume?\"))\n",
    "            elif self.volume == 100:\n",
    "                change_plus_less = '-'\n",
    "                change_ammount = int(input(\"Quantas vezes você vai apertar para diminuir o volume?\"))*(-1)\n",
    "            else:\n",
    "                change_plus_less = str(input(\"Qual botão você vai apertar, de aumentar (+) ou de diminuir (-) o volume?\"))\n",
    "                if change_plus_less == '+':\n",
    "                    change_ammount = int(input(\"Quantas vezes você vai apertar?\"))\n",
    "                else:\n",
    "                    change_ammount = int(input(\"Quantas vezes você vai apertar?\"))*(-1)\n",
    "                \n",
    "            self.volume += change_ammount\n",
    "        \n",
    "            if self.volume > 100:\n",
    "                self.volume = 100\n",
    "                print(f'O volume está em 100')\n",
    "            elif self.volume < 0:\n",
    "                self.volume = 0\n",
    "                print(f'O volume está em 0')\n",
    "            else:\n",
    "                print(f'O volume está em {self.volume}')\n",
    "        \n",
    "        else:\n",
    "            \n",
    "            print('Click, click... a TV está desligada!')\n",
    "    \n",
    "    def tune_new_channel(self):\n",
    "        '''\n",
    "        Novo canal tem que conter chave (número do canal) e valor (nome do canal).\n",
    "        '''\n",
    "        \n",
    "        if self.ligada:\n",
    "        \n",
    "            print(self.channel_list) if len(self.channel_list) !=0 else print('Shhhhhhhhhhhh... Não há canais sintonizados')\n",
    "        \n",
    "            new_channel_number = int(input('Qual é o número do novo canal encontrado?'))\n",
    "            new_channel_name = input('Qual é o nome do novo canal encontrado?')\n",
    "        \n",
    "            new_channel = {new_channel_number:new_channel_name}\n",
    "        \n",
    "            if new_channel_number not in self.channel_list.keys():\n",
    "                self.channel_list.update(new_channel)\n",
    "                print(self.channel_list)\n",
    "            else:\n",
    "                print('O Canal já está na lista')\n",
    "        \n",
    "        else:\n",
    "            \n",
    "            print('Click, click... a TV está desligada!')\n",
    "    \n",
    "    def change_channel(self):\n",
    "        \n",
    "        if self.ligada:\n",
    "            \n",
    "            if self.channel != None:\n",
    "                print(f'Você está assintindo {self.channel}')\n",
    "        \n",
    "            if len(self.channel_list) != 0:\n",
    "                print(self.channel_list)\n",
    "                change_to = int(input('Escolha um número dos canais acima para mudar'))\n",
    "                while change_to not in self.channel_list.keys():\n",
    "                    print('Canal inexistente')\n",
    "                    change_to = int(input('Escolha um número dos canais acima para mudar'))\n",
    "                else:\n",
    "                    print(f'Você está assintindo {self.channel_list[change_to]}')\n",
    "                    self.channel = self.channel_list[change_to]\n",
    "            else:\n",
    "                print('Shhhhhhhhhhhh... Não há canais sintonizados')\n",
    "            \n",
    "        else:\n",
    "            \n",
    "            print('Click, click... a TV está desligada!')"
   ]
  },
  {
   "cell_type": "code",
   "execution_count": 27,
   "metadata": {},
   "outputs": [],
   "source": [
    "tv = Televisor('Samsung','Plasma 50\"')"
   ]
  },
  {
   "cell_type": "code",
   "execution_count": 28,
   "metadata": {},
   "outputs": [
    {
     "data": {
      "text/plain": [
       "A TV Plasma 50\" da Samsung está Desligada."
      ]
     },
     "execution_count": 28,
     "metadata": {},
     "output_type": "execute_result"
    }
   ],
   "source": [
    "tv"
   ]
  },
  {
   "cell_type": "code",
   "execution_count": 29,
   "metadata": {},
   "outputs": [
    {
     "data": {
      "text/plain": [
       "'Samsung'"
      ]
     },
     "execution_count": 29,
     "metadata": {},
     "output_type": "execute_result"
    }
   ],
   "source": [
    "tv.manufact"
   ]
  },
  {
   "cell_type": "code",
   "execution_count": 30,
   "metadata": {},
   "outputs": [
    {
     "data": {
      "text/plain": [
       "'Plasma 50\"'"
      ]
     },
     "execution_count": 30,
     "metadata": {},
     "output_type": "execute_result"
    }
   ],
   "source": [
    "tv.model"
   ]
  },
  {
   "cell_type": "code",
   "execution_count": 31,
   "metadata": {},
   "outputs": [
    {
     "data": {
      "text/plain": [
       "{}"
      ]
     },
     "execution_count": 31,
     "metadata": {},
     "output_type": "execute_result"
    }
   ],
   "source": [
    "tv.channel_list"
   ]
  },
  {
   "cell_type": "code",
   "execution_count": 32,
   "metadata": {
    "scrolled": true
   },
   "outputs": [
    {
     "name": "stdout",
     "output_type": "stream",
     "text": [
      "PLIM! A TV está ligada\n"
     ]
    }
   ],
   "source": [
    "tv.on_off()"
   ]
  },
  {
   "cell_type": "code",
   "execution_count": 33,
   "metadata": {},
   "outputs": [
    {
     "name": "stdout",
     "output_type": "stream",
     "text": [
      "0\n",
      "Quantas vezes você vai apertar para aumentar o volume?10\n",
      "O volume está em 10\n"
     ]
    }
   ],
   "source": [
    "tv.change_volume()"
   ]
  },
  {
   "cell_type": "code",
   "execution_count": 34,
   "metadata": {},
   "outputs": [
    {
     "data": {
      "text/plain": [
       "10"
      ]
     },
     "execution_count": 34,
     "metadata": {},
     "output_type": "execute_result"
    }
   ],
   "source": [
    "tv.volume"
   ]
  },
  {
   "cell_type": "code",
   "execution_count": 35,
   "metadata": {},
   "outputs": [
    {
     "name": "stdout",
     "output_type": "stream",
     "text": [
      "10\n",
      "Qual botão você vai apertar, de aumentar (+) ou de diminuir (-) o volume?-\n",
      "Quantas vezes você vai apertar?5\n",
      "O volume está em 5\n"
     ]
    }
   ],
   "source": [
    "tv.change_volume()"
   ]
  },
  {
   "cell_type": "code",
   "execution_count": 36,
   "metadata": {},
   "outputs": [
    {
     "name": "stdout",
     "output_type": "stream",
     "text": [
      "Shhhhhhhhhhhh... Não há canais sintonizados\n"
     ]
    }
   ],
   "source": [
    "tv.change_channel()"
   ]
  },
  {
   "cell_type": "code",
   "execution_count": 37,
   "metadata": {},
   "outputs": [
    {
     "name": "stdout",
     "output_type": "stream",
     "text": [
      "Shhhhhhhhhhhh... Não há canais sintonizados\n",
      "Qual é o número do novo canal encontrado?12\n",
      "Qual é o nome do novo canal encontrado?Filmes\n",
      "{12: 'Filmes'}\n"
     ]
    }
   ],
   "source": [
    "tv.tune_new_channel()"
   ]
  },
  {
   "cell_type": "code",
   "execution_count": 39,
   "metadata": {},
   "outputs": [
    {
     "name": "stdout",
     "output_type": "stream",
     "text": [
      "{12: 'Filmes'}\n",
      "Qual é o número do novo canal encontrado?13\n",
      "Qual é o nome do novo canal encontrado?Esportes\n",
      "{12: 'Filmes', 13: 'Esportes'}\n"
     ]
    }
   ],
   "source": [
    "tv.tune_new_channel()"
   ]
  },
  {
   "cell_type": "code",
   "execution_count": 40,
   "metadata": {
    "scrolled": true
   },
   "outputs": [
    {
     "name": "stdout",
     "output_type": "stream",
     "text": [
      "{12: 'Filmes', 13: 'Esportes'}\n",
      "Escolha um número dos canais acima para mudar12\n",
      "Você está assintindo Filmes\n"
     ]
    }
   ],
   "source": [
    "tv.change_channel()"
   ]
  },
  {
   "cell_type": "code",
   "execution_count": 41,
   "metadata": {
    "scrolled": false
   },
   "outputs": [
    {
     "name": "stdout",
     "output_type": "stream",
     "text": [
      "Você está assintindo Filmes\n",
      "{12: 'Filmes', 13: 'Esportes'}\n",
      "Escolha um número dos canais acima para mudar13\n",
      "Você está assintindo Esportes\n"
     ]
    }
   ],
   "source": [
    "tv.change_channel()"
   ]
  },
  {
   "cell_type": "code",
   "execution_count": 42,
   "metadata": {
    "scrolled": true
   },
   "outputs": [
    {
     "name": "stdout",
     "output_type": "stream",
     "text": [
      "TUF! A TV está desligada\n"
     ]
    }
   ],
   "source": [
    "tv.on_off()"
   ]
  },
  {
   "cell_type": "markdown",
   "metadata": {},
   "source": [
    "___________"
   ]
  },
  {
   "cell_type": "markdown",
   "metadata": {},
   "source": [
    "Crie uma classe `ControleRemoto` cujo atributo é televisão (isso é, recebe um objeto da classe do exercício 7). Crie métodos para aumentar/diminuir volume, trocar o canal e sintonizar um novo canal, que adiciona um novo canal à lista de canais (somente se esse canal não estiver nessa lista).\n"
   ]
  },
  {
   "cell_type": "code",
   "execution_count": 43,
   "metadata": {},
   "outputs": [],
   "source": [
    "class Remote_Control:\n",
    "    '''\n",
    "    Controla um objeto da classe Televisor\n",
    "    '''\n",
    "    \n",
    "    def __init__(self, batery_charge = None):\n",
    "        '''\n",
    "        Método construtor que define o atributo pilhas, que define se o controle está sem pilhas\n",
    "        (None), ou sua carga\n",
    "        '''\n",
    "        self.pilhas = batery_charge\n",
    "    \n",
    "    def __repr__(self):\n",
    "        \n",
    "        if self.pilhas == None:\n",
    "            return f\"O controle está sem pilhas\"\n",
    "        elif self.pilhas > 75:\n",
    "            return f\"O controle está com pilhas novinhas!\"\n",
    "        elif self.pilhas > 25 and self.pilhas <= 75:\n",
    "            return f\"O controle está com pilhas boas...\"\n",
    "        else:\n",
    "            return f\"As pilhas do controle estão acabando.\"\n",
    "    \n",
    "    def change_bateries(self):\n",
    "    \n",
    "        if self.pilhas != True:\n",
    "            print('Pronto, pilhas novinhas')\n",
    "            self.pilhas = 100\n",
    "    \n",
    "    def remote_on_off(self, televisor: object):\n",
    "        \n",
    "        if self.pilhas == None:\n",
    "            print('O controle está sem pilhas!')\n",
    "        elif self.pilhas == 0:\n",
    "            print('As pilhas estão muito fracas')\n",
    "        else:\n",
    "            televisor.on_off()\n",
    "            self.pilhas -= 1\n",
    "    \n",
    "    def remote_change_ch(self, televisor: object):\n",
    "    \n",
    "        if self.pilhas == None:\n",
    "            print('O controle está sem pilhas!')\n",
    "        elif self.pilhas == 0:\n",
    "            print('As pilhas estão muito fracas')\n",
    "        else:\n",
    "            televisor.change_channel()\n",
    "            self.pilhas -= 1\n",
    "    \n",
    "    def remote_tune_ch(self, televisor: object):\n",
    "        \n",
    "        if self.pilhas == None:\n",
    "            print('O controle está sem pilhas!')\n",
    "        elif self.pilhas == 0:\n",
    "            print('As pilhas estão muito fracas')\n",
    "        else:\n",
    "            televisor.tune_new_channel()\n",
    "            self.pilhas -= 1\n",
    "            \n",
    "    def remote_change_vol(self, televisor: object):\n",
    "        \n",
    "        if self.pilhas == None:\n",
    "            print('O controle está sem pilhas!')\n",
    "        elif self.pilhas == 0:\n",
    "            print('As pilhas estão muito fracas')\n",
    "        else:\n",
    "            televisor.change_volume()\n",
    "            self.pilhas -= 1"
   ]
  },
  {
   "cell_type": "code",
   "execution_count": 73,
   "metadata": {},
   "outputs": [],
   "source": [
    "controle = Remote_Control()"
   ]
  },
  {
   "cell_type": "code",
   "execution_count": 74,
   "metadata": {
    "scrolled": false
   },
   "outputs": [
    {
     "data": {
      "text/plain": [
       "O controle está sem pilhas"
      ]
     },
     "execution_count": 74,
     "metadata": {},
     "output_type": "execute_result"
    }
   ],
   "source": [
    "controle"
   ]
  },
  {
   "cell_type": "code",
   "execution_count": 75,
   "metadata": {},
   "outputs": [],
   "source": [
    "controle.pilhas"
   ]
  },
  {
   "cell_type": "code",
   "execution_count": 76,
   "metadata": {
    "scrolled": true
   },
   "outputs": [
    {
     "name": "stdout",
     "output_type": "stream",
     "text": [
      "O controle está sem pilhas!\n"
     ]
    }
   ],
   "source": [
    "controle.remote_on_off(tv)"
   ]
  },
  {
   "cell_type": "code",
   "execution_count": 77,
   "metadata": {},
   "outputs": [
    {
     "name": "stdout",
     "output_type": "stream",
     "text": [
      "Pronto, pilhas novinhas\n"
     ]
    }
   ],
   "source": [
    "controle.change_bateries()"
   ]
  },
  {
   "cell_type": "code",
   "execution_count": 78,
   "metadata": {},
   "outputs": [
    {
     "data": {
      "text/plain": [
       "O controle está com pilhas novinhas!"
      ]
     },
     "execution_count": 78,
     "metadata": {},
     "output_type": "execute_result"
    }
   ],
   "source": [
    "controle"
   ]
  },
  {
   "cell_type": "code",
   "execution_count": 79,
   "metadata": {},
   "outputs": [],
   "source": [
    "controle.pilhas = 20"
   ]
  },
  {
   "cell_type": "code",
   "execution_count": 80,
   "metadata": {},
   "outputs": [
    {
     "name": "stdout",
     "output_type": "stream",
     "text": [
      "PLIM! A TV está ligada\n"
     ]
    }
   ],
   "source": [
    "controle.remote_on_off(tv)"
   ]
  },
  {
   "cell_type": "code",
   "execution_count": 81,
   "metadata": {
    "scrolled": true
   },
   "outputs": [
    {
     "name": "stdout",
     "output_type": "stream",
     "text": [
      "Você está assintindo Música\n",
      "{12: 'Filmes', 13: 'Esportes', 14: 'Música'}\n",
      "Escolha um número dos canais acima para mudar12\n",
      "Você está assintindo Filmes\n"
     ]
    }
   ],
   "source": [
    "controle.remote_change_ch(tv)"
   ]
  },
  {
   "cell_type": "code",
   "execution_count": 82,
   "metadata": {},
   "outputs": [
    {
     "name": "stdout",
     "output_type": "stream",
     "text": [
      "TUF! A TV está desligada\n"
     ]
    }
   ],
   "source": [
    "controle.remote_on_off(tv)"
   ]
  },
  {
   "cell_type": "code",
   "execution_count": 83,
   "metadata": {},
   "outputs": [
    {
     "name": "stdout",
     "output_type": "stream",
     "text": [
      "Click, click... a TV está desligada!\n"
     ]
    }
   ],
   "source": [
    "controle.remote_change_ch(tv)"
   ]
  },
  {
   "cell_type": "code",
   "execution_count": 84,
   "metadata": {},
   "outputs": [
    {
     "name": "stdout",
     "output_type": "stream",
     "text": [
      "PLIM! A TV está ligada\n"
     ]
    }
   ],
   "source": [
    "controle.remote_on_off(tv)"
   ]
  },
  {
   "cell_type": "code",
   "execution_count": 85,
   "metadata": {},
   "outputs": [
    {
     "name": "stdout",
     "output_type": "stream",
     "text": [
      "{12: 'Filmes', 13: 'Esportes', 14: 'Música'}\n",
      "Qual é o número do novo canal encontrado?13\n",
      "Qual é o nome do novo canal encontrado?Esportes\n",
      "O Canal já está na lista\n"
     ]
    }
   ],
   "source": [
    "controle.remote_tune_ch(tv)"
   ]
  },
  {
   "cell_type": "code",
   "execution_count": 86,
   "metadata": {
    "scrolled": false
   },
   "outputs": [
    {
     "name": "stdout",
     "output_type": "stream",
     "text": [
      "Você está assintindo Filmes\n",
      "{12: 'Filmes', 13: 'Esportes', 14: 'Música'}\n",
      "Escolha um número dos canais acima para mudar14\n",
      "Você está assintindo Música\n"
     ]
    }
   ],
   "source": [
    "controle.remote_change_ch(tv)"
   ]
  },
  {
   "cell_type": "code",
   "execution_count": 87,
   "metadata": {},
   "outputs": [
    {
     "name": "stdout",
     "output_type": "stream",
     "text": [
      "15\n",
      "Qual botão você vai apertar, de aumentar (+) ou de diminuir (-) o volume?-\n",
      "Quantas vezes você vai apertar?10\n",
      "O volume está em 5\n"
     ]
    }
   ],
   "source": [
    "controle.remote_change_vol(tv)"
   ]
  },
  {
   "cell_type": "code",
   "execution_count": 88,
   "metadata": {},
   "outputs": [
    {
     "data": {
      "text/plain": [
       "As pilhas do controle estão acabando."
      ]
     },
     "execution_count": 88,
     "metadata": {},
     "output_type": "execute_result"
    }
   ],
   "source": [
    "controle"
   ]
  },
  {
   "cell_type": "code",
   "execution_count": 89,
   "metadata": {},
   "outputs": [
    {
     "data": {
      "text/plain": [
       "12"
      ]
     },
     "execution_count": 89,
     "metadata": {},
     "output_type": "execute_result"
    }
   ],
   "source": [
    "controle.pilhas"
   ]
  },
  {
   "cell_type": "code",
   "execution_count": 90,
   "metadata": {},
   "outputs": [
    {
     "name": "stdout",
     "output_type": "stream",
     "text": [
      "TUF! A TV está desligada\n",
      "PLIM! A TV está ligada\n",
      "TUF! A TV está desligada\n",
      "PLIM! A TV está ligada\n",
      "TUF! A TV está desligada\n",
      "PLIM! A TV está ligada\n",
      "TUF! A TV está desligada\n",
      "PLIM! A TV está ligada\n",
      "TUF! A TV está desligada\n",
      "PLIM! A TV está ligada\n",
      "TUF! A TV está desligada\n",
      "PLIM! A TV está ligada\n"
     ]
    }
   ],
   "source": [
    "controle.remote_on_off(tv)\n",
    "controle.remote_on_off(tv)\n",
    "controle.remote_on_off(tv)\n",
    "controle.remote_on_off(tv)\n",
    "controle.remote_on_off(tv)\n",
    "controle.remote_on_off(tv)\n",
    "controle.remote_on_off(tv)\n",
    "controle.remote_on_off(tv)\n",
    "controle.remote_on_off(tv)\n",
    "controle.remote_on_off(tv)\n",
    "controle.remote_on_off(tv)\n",
    "controle.remote_on_off(tv)"
   ]
  },
  {
   "cell_type": "code",
   "execution_count": 91,
   "metadata": {},
   "outputs": [
    {
     "data": {
      "text/plain": [
       "0"
      ]
     },
     "execution_count": 91,
     "metadata": {},
     "output_type": "execute_result"
    }
   ],
   "source": [
    "controle.pilhas"
   ]
  },
  {
   "cell_type": "code",
   "execution_count": 92,
   "metadata": {},
   "outputs": [
    {
     "name": "stdout",
     "output_type": "stream",
     "text": [
      "As pilhas estão muito fracas\n"
     ]
    }
   ],
   "source": [
    "controle.remote_on_off(tv)"
   ]
  }
 ],
 "metadata": {
  "kernelspec": {
   "display_name": "Python 3 (ipykernel)",
   "language": "python",
   "name": "python3"
  },
  "language_info": {
   "codemirror_mode": {
    "name": "ipython",
    "version": 3
   },
   "file_extension": ".py",
   "mimetype": "text/x-python",
   "name": "python",
   "nbconvert_exporter": "python",
   "pygments_lexer": "ipython3",
   "version": "3.9.7"
  }
 },
 "nbformat": 4,
 "nbformat_minor": 4
}
